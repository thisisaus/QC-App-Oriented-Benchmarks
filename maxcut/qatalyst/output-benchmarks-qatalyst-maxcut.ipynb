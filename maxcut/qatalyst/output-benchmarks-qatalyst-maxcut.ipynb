{
 "cells": [
  {
   "cell_type": "markdown",
   "metadata": {},
   "source": [
    "### QED-C Prototype Benchmarks - Qatalyst Version\n",
    "The notebook contains a suite of prototype application benchmarks for the QCi Qatalyst API.\n",
    "Configure and run the cell below with the desired execution settings.\n",
    "Then execute the remaining cells, each containing one benchmark program."
   ]
  },
  {
   "cell_type": "code",
   "execution_count": 1,
   "metadata": {
    "scrolled": false
   },
   "outputs": [],
   "source": [
    "min_qubits=4\n",
    "max_qubits=320\n",
    "max_circuits=2\n",
    "# num_shots=1000\n",
    "\n",
    "backend_id=\"dirac-1\"\n",
    "provider_backend=None\n",
    "exec_options=None\n",
    "\n"
   ]
  },
  {
   "cell_type": "markdown",
   "metadata": {},
   "source": [
    "### Maxcut - Ising Hamiltonian \n",
    "\n",
    "Formulate a maxcut problem as an Ising hamiltonian with every interaction term as the number\n",
    "of arcs between the two nodes. "
   ]
  },
  {
   "cell_type": "code",
   "execution_count": 2,
   "metadata": {
    "scrolled": false
   },
   "outputs": [],
   "source": [
    "# import sys\n",
    "# sys.path.insert(1, \"maxcut/qiskit\")\n",
    "import maxcut_benchmark\n",
    "\n",
    "# Debug/trace options\n",
    "# import execute\n",
    "# execute.verbose = False\n",
    "# execute.verbose_time = False\n",
    "maxcut_benchmark.verbose = False\n",
    "\n",
    "# Display options\n",
    "func_type='approx_ratio'\n",
    "x_metric=['cumulative_elapsed_time', 'cumulative_exec_time', 'cumulative_opt_exec_time' ]\n",
    "\n",
    "# maxcut_benchmark.run(\n",
    "#     min_qubits=min_qubits, max_qubits=max_qubits, max_circuits=max_circuits, num_shots=1,\n",
    "#     degree=3, save_res_to_file=True,\n",
    "#     score_metric=score_metric, x_metric=x_metric, \n",
    "#     backend_id=backend_id, provider_backend=provider_backend,\n",
    "#     exec_options=exec_options\n",
    "#)"
   ]
  },
  {
   "cell_type": "markdown",
   "metadata": {},
   "source": [
    "### Load Data From File and Regenerate Plots\n",
    "This cell can be used to re-load the data stored during benchmark execution and plot the results.\n",
    "\n",
    "Be sure to first execute the initial cell which sets the backend_id"
   ]
  },
  {
   "cell_type": "code",
   "execution_count": 5,
   "metadata": {
    "scrolled": false
   },
   "outputs": [
    {
     "name": "stdout",
     "output_type": "stream",
     "text": [
      "... execution starting at Jun 11, 2024 22:23:17 UTC\n",
      "Loading from width_8_restartInd_1.json, corresponding to 8 qubits and restart index 1\n"
     ]
    },
    {
     "ename": "IndexError",
     "evalue": "index 0 is out of bounds for axis 0 with size 0",
     "output_type": "error",
     "traceback": [
      "\u001b[0;31m---------------------------------------------------------------------------\u001b[0m",
      "\u001b[0;31mIndexError\u001b[0m                                Traceback (most recent call last)",
      "Cell \u001b[0;32mIn[5], line 2\u001b[0m\n\u001b[1;32m      1\u001b[0m \u001b[38;5;28;01mimport\u001b[39;00m \u001b[38;5;21;01mos\u001b[39;00m\u001b[38;5;241m,\u001b[39m \u001b[38;5;21;01mmaxcut_benchmark\u001b[39;00m\n\u001b[0;32m----> 2\u001b[0m \u001b[43mmaxcut_benchmark\u001b[49m\u001b[38;5;241;43m.\u001b[39;49m\u001b[43mload_data_and_plot\u001b[49m\u001b[43m(\u001b[49m\u001b[43mos\u001b[49m\u001b[38;5;241;43m.\u001b[39;49m\u001b[43mpath\u001b[49m\u001b[38;5;241;43m.\u001b[39;49m\u001b[43mjoin\u001b[49m\u001b[43m(\u001b[49m\u001b[38;5;124;43m'\u001b[39;49m\u001b[38;5;124;43m__results\u001b[39;49m\u001b[38;5;124;43m'\u001b[39;49m\u001b[43m,\u001b[49m\u001b[43m \u001b[49m\u001b[43mbackend_id\u001b[49m\u001b[43m,\u001b[49m\u001b[43m \u001b[49m\u001b[38;5;124;43m'\u001b[39;49m\u001b[38;5;124;43mapprox_ratio\u001b[39;49m\u001b[38;5;124;43m'\u001b[39;49m\u001b[43m)\u001b[49m\u001b[43m,\u001b[49m\n\u001b[1;32m      3\u001b[0m \u001b[43m                \u001b[49m\u001b[43mobjective_func_type\u001b[49m\u001b[38;5;241;43m=\u001b[39;49m\u001b[43mfunc_type\u001b[49m\u001b[43m,\u001b[49m\u001b[43m \u001b[49m\u001b[43mfilters\u001b[49m\u001b[38;5;241;43m=\u001b[39;49m\u001b[43m[\u001b[49m\u001b[38;5;124;43m\"\u001b[39;49m\u001b[38;5;124;43mexecute\u001b[39;49m\u001b[38;5;124;43m\"\u001b[39;49m\u001b[43m]\u001b[49m\u001b[43m,\u001b[49m\n\u001b[1;32m      4\u001b[0m \u001b[43m                \u001b[49m\u001b[43mx_metric\u001b[49m\u001b[38;5;241;43m=\u001b[39;49m\u001b[43m[\u001b[49m\u001b[38;5;124;43m'\u001b[39;49m\u001b[38;5;124;43mcumulative_elapsed_time\u001b[39;49m\u001b[38;5;124;43m'\u001b[39;49m\u001b[43m,\u001b[49m\u001b[43m \u001b[49m\u001b[38;5;124;43m'\u001b[39;49m\u001b[38;5;124;43mcumulative_exec_time\u001b[39;49m\u001b[38;5;124;43m'\u001b[39;49m\u001b[43m,\u001b[49m\u001b[43m \u001b[49m\u001b[38;5;124;43m'\u001b[39;49m\u001b[38;5;124;43mcumulative_opt_exec_time\u001b[39;49m\u001b[38;5;124;43m'\u001b[39;49m\u001b[43m]\u001b[49m\u001b[43m)\u001b[49m\n",
      "File \u001b[0;32m~/Documents/working_copies/QC-App-Oriented-Benchmarks/maxcut/qatalyst/maxcut_benchmark.py:545\u001b[0m, in \u001b[0;36mload_data_and_plot\u001b[0;34m(folder, backend_id, **kwargs)\u001b[0m\n\u001b[1;32m    535\u001b[0m \u001b[38;5;28;01mdef\u001b[39;00m \u001b[38;5;21mload_data_and_plot\u001b[39m(folder, backend_id\u001b[38;5;241m=\u001b[39m\u001b[38;5;28;01mNone\u001b[39;00m, \u001b[38;5;241m*\u001b[39m\u001b[38;5;241m*\u001b[39mkwargs):\n\u001b[1;32m    536\u001b[0m \u001b[38;5;250m    \u001b[39m\u001b[38;5;124;03m\"\"\"\u001b[39;00m\n\u001b[1;32m    537\u001b[0m \u001b[38;5;124;03m    The highest level function for loading stored data from a previous run\u001b[39;00m\n\u001b[1;32m    538\u001b[0m \u001b[38;5;124;03m    and plotting optgaps and area metrics\u001b[39;00m\n\u001b[0;32m   (...)\u001b[0m\n\u001b[1;32m    543\u001b[0m \u001b[38;5;124;03m        Directory where json files are saved.\u001b[39;00m\n\u001b[1;32m    544\u001b[0m \u001b[38;5;124;03m    \"\"\"\u001b[39;00m\n\u001b[0;32m--> 545\u001b[0m     _gen_prop \u001b[38;5;241m=\u001b[39m \u001b[43mload_all_metrics\u001b[49m\u001b[43m(\u001b[49m\u001b[43mfolder\u001b[49m\u001b[43m,\u001b[49m\u001b[43m \u001b[49m\u001b[43mbackend_id\u001b[49m\u001b[38;5;241;43m=\u001b[39;49m\u001b[43mbackend_id\u001b[49m\u001b[43m)\u001b[49m\n\u001b[1;32m    546\u001b[0m     \u001b[38;5;28;01mif\u001b[39;00m _gen_prop \u001b[38;5;241m!=\u001b[39m \u001b[38;5;28;01mNone\u001b[39;00m:\n\u001b[1;32m    547\u001b[0m         gen_prop \u001b[38;5;241m=\u001b[39m {\u001b[38;5;241m*\u001b[39m\u001b[38;5;241m*\u001b[39m_gen_prop, \u001b[38;5;241m*\u001b[39m\u001b[38;5;241m*\u001b[39mkwargs}\n",
      "File \u001b[0;32m~/Documents/working_copies/QC-App-Oriented-Benchmarks/maxcut/qatalyst/maxcut_benchmark.py:589\u001b[0m, in \u001b[0;36mload_all_metrics\u001b[0;34m(folder, backend_id)\u001b[0m\n\u001b[1;32m    586\u001b[0m \u001b[38;5;28;01mfor\u001b[39;00m width_files \u001b[38;5;129;01min\u001b[39;00m list_of_files:\n\u001b[1;32m    587\u001b[0m     \u001b[38;5;66;03m# For each width, first load all the restart files\u001b[39;00m\n\u001b[1;32m    588\u001b[0m     \u001b[38;5;28;01mfor\u001b[39;00m fileName \u001b[38;5;129;01min\u001b[39;00m width_files:\n\u001b[0;32m--> 589\u001b[0m         gen_prop \u001b[38;5;241m=\u001b[39m \u001b[43mload_from_width_restart_file\u001b[49m\u001b[43m(\u001b[49m\u001b[43mfolder\u001b[49m\u001b[43m,\u001b[49m\u001b[43m \u001b[49m\u001b[43mfileName\u001b[49m\u001b[43m)\u001b[49m\n\u001b[1;32m    591\u001b[0m     \u001b[38;5;66;03m# next, do processing for the width\u001b[39;00m\n\u001b[1;32m    592\u001b[0m     \u001b[38;5;66;03m# method = gen_prop['method']\u001b[39;00m\n\u001b[1;32m    593\u001b[0m     num_qubits, _ \u001b[38;5;241m=\u001b[39m get_width_restart_tuple_from_filename(width_files[\u001b[38;5;241m0\u001b[39m])\n",
      "File \u001b[0;32m~/Documents/working_copies/QC-App-Oriented-Benchmarks/maxcut/qatalyst/maxcut_benchmark.py:661\u001b[0m, in \u001b[0;36mload_from_width_restart_file\u001b[0;34m(folder, fileName)\u001b[0m\n\u001b[1;32m    658\u001b[0m cuts, counts, sizes \u001b[38;5;241m=\u001b[39m compute_cutsizes(saved_result, nodes, edges)\n\u001b[1;32m    660\u001b[0m \u001b[38;5;66;03m# Also compute and store the weights of cuts at three quantile values\u001b[39;00m\n\u001b[0;32m--> 661\u001b[0m quantile_sizes \u001b[38;5;241m=\u001b[39m \u001b[43mcompute_quartiles\u001b[49m\u001b[43m(\u001b[49m\u001b[43mcounts\u001b[49m\u001b[43m,\u001b[49m\u001b[43m \u001b[49m\u001b[43msizes\u001b[49m\u001b[43m)\u001b[49m\n\u001b[1;32m    662\u001b[0m \u001b[38;5;66;03m# Store quantile_optgaps as a list (allows storing in json files)\u001b[39;00m\n\u001b[1;32m    663\u001b[0m metrics\u001b[38;5;241m.\u001b[39mstore_metric(num_qubits, restart_ind, \u001b[38;5;124m'\u001b[39m\u001b[38;5;124mquantile_optgaps\u001b[39m\u001b[38;5;124m'\u001b[39m, (\u001b[38;5;241m1\u001b[39m \u001b[38;5;241m-\u001b[39m quantile_sizes \u001b[38;5;241m/\u001b[39m opt)\u001b[38;5;241m.\u001b[39mtolist()) \n",
      "File \u001b[0;32m~/Documents/working_copies/QC-App-Oriented-Benchmarks/maxcut/qatalyst/maxcut_benchmark.py:356\u001b[0m, in \u001b[0;36mcompute_quartiles\u001b[0;34m(counts, sizes)\u001b[0m\n\u001b[1;32m    354\u001b[0m cumsum_counts \u001b[38;5;241m=\u001b[39m np\u001b[38;5;241m.\u001b[39mcumsum(counts)\n\u001b[1;32m    355\u001b[0m locs \u001b[38;5;241m=\u001b[39m np\u001b[38;5;241m.\u001b[39msearchsorted(cumsum_counts, ct_vals)\n\u001b[0;32m--> 356\u001b[0m quantile_sizes \u001b[38;5;241m=\u001b[39m \u001b[43msizes\u001b[49m\u001b[43m[\u001b[49m\u001b[43mlocs\u001b[49m\u001b[43m]\u001b[49m\n\u001b[1;32m    357\u001b[0m \u001b[38;5;28;01mreturn\u001b[39;00m quantile_sizes\n",
      "\u001b[0;31mIndexError\u001b[0m: index 0 is out of bounds for axis 0 with size 0"
     ]
    }
   ],
   "source": [
    "import os, maxcut_benchmark\n",
    "maxcut_benchmark.load_data_and_plot(os.path.join('__results', backend_id, 'approx_ratio_bak'),\n",
    "                objective_func_type=func_type, filters=[\"execute\"],\n",
    "                x_metric=['cumulative_elapsed_time', 'cumulative_exec_time', 'cumulative_opt_exec_time'])"
   ]
  },
  {
   "cell_type": "code",
   "execution_count": null,
   "metadata": {},
   "outputs": [],
   "source": []
  }
 ],
 "metadata": {
  "kernelspec": {
   "display_name": "Python 3",
   "language": "python",
   "name": "python3"
  },
  "language_info": {
   "codemirror_mode": {
    "name": "ipython",
    "version": 3
   },
   "file_extension": ".py",
   "mimetype": "text/x-python",
   "name": "python",
   "nbconvert_exporter": "python",
   "pygments_lexer": "ipython3",
   "version": "3.10.12"
  }
 },
 "nbformat": 4,
 "nbformat_minor": 4
}
