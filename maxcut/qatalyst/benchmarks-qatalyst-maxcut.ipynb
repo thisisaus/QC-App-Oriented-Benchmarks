{
 "cells": [
  {
   "cell_type": "markdown",
   "metadata": {},
   "source": [
    "### QED-C Prototype Benchmarks - Qatalyst Version\n",
    "The notebook contains a suite of prototype application benchmarks for the QCi Qatalyst API.\n",
    "Configure and run the cell below with the desired execution settings.\n",
    "Then execute the remaining cells, each containing one benchmark program."
   ]
  },
  {
   "cell_type": "code",
   "execution_count": 1,
   "metadata": {
    "scrolled": false
   },
   "outputs": [],
   "source": [
    "min_qubits=4\n",
    "max_qubits=320\n",
    "max_circuits=100\n",
    "# num_shots=1000\n",
    "\n",
    "backend_id=None\n",
    "provider_backend=None\n",
    "exec_options=None\n",
    "\n",
    "# Be sure to set the DWAVE_API_TOKEN environment variable\n",
    "from qci_client import QciClient\n",
    "backend_id=\"dirac-1\"\n",
    "\n",
    "# environment variables QCI_API_URL and QCI_TOKEN must be set for this to work without \n",
    "# specifying the parameters here\n",
    "provider_backend = QciClient()\n",
    "\n"
   ]
  },
  {
   "cell_type": "markdown",
   "metadata": {},
   "source": [
    "### Maxcut - Ising Hamiltonian \n",
    "\n",
    "Formulate a maxcut problem as an Ising hamiltonian with every interaction term as the number\n",
    "of arcs between the two nodes. "
   ]
  },
  {
   "cell_type": "code",
   "execution_count": 4,
   "metadata": {
    "scrolled": false
   },
   "outputs": [
    {
     "name": "stdout",
     "output_type": "stream",
     "text": [
      "MaxCut Benchmark Program - Qatalyst\n",
      "... execution starting at Jun 01, 2024 16:56:59 UTC\n",
      "... using backend_id = dirac-1\n",
      "... using device_name = dirac-1\n",
      "************\n",
      "Executing [100] circuits for num_qubits = 4\n",
      "... submit circuit - group=4 id=1  params=None\n",
      "Uploading file shape (4, 5)\n",
      "Got file_id 665b52dc98263204a365b8a4\n",
      "Building job request dirac-1 1\n",
      "2024-06-01 10:57:00 - Dirac allocation balance = 0 s (unmetered)\n",
      "2024-06-01 10:57:00 - Job submitted: job_id='665b52dca3e6a645a5c4dcff'\n",
      "2024-06-01 10:57:01 - QUEUED\n",
      "2024-06-01 10:57:04 - RUNNING\n"
     ]
    },
    {
     "ename": "KeyboardInterrupt",
     "evalue": "",
     "output_type": "error",
     "traceback": [
      "\u001b[0;31m---------------------------------------------------------------------------\u001b[0m",
      "\u001b[0;31mKeyboardInterrupt\u001b[0m                         Traceback (most recent call last)",
      "Cell \u001b[0;32mIn[4], line 15\u001b[0m\n\u001b[1;32m     12\u001b[0m score_metric\u001b[38;5;241m=\u001b[39m\u001b[38;5;124m'\u001b[39m\u001b[38;5;124mbestcut_ratio\u001b[39m\u001b[38;5;124m'\u001b[39m\n\u001b[1;32m     13\u001b[0m x_metric\u001b[38;5;241m=\u001b[39m[\u001b[38;5;124m'\u001b[39m\u001b[38;5;124mcumulative_elapsed_time\u001b[39m\u001b[38;5;124m'\u001b[39m, \u001b[38;5;124m'\u001b[39m\u001b[38;5;124mcumulative_exec_time\u001b[39m\u001b[38;5;124m'\u001b[39m, \u001b[38;5;124m'\u001b[39m\u001b[38;5;124mcumulative_opt_exec_time\u001b[39m\u001b[38;5;124m'\u001b[39m ]\n\u001b[0;32m---> 15\u001b[0m \u001b[43mmaxcut_benchmark\u001b[49m\u001b[38;5;241;43m.\u001b[39;49m\u001b[43mrun\u001b[49m\u001b[43m(\u001b[49m\n\u001b[1;32m     16\u001b[0m \u001b[43m    \u001b[49m\u001b[43mmin_qubits\u001b[49m\u001b[38;5;241;43m=\u001b[39;49m\u001b[43mmin_qubits\u001b[49m\u001b[43m,\u001b[49m\u001b[43m \u001b[49m\u001b[43mmax_qubits\u001b[49m\u001b[38;5;241;43m=\u001b[39;49m\u001b[43mmax_qubits\u001b[49m\u001b[43m,\u001b[49m\u001b[43m \u001b[49m\u001b[43mmax_circuits\u001b[49m\u001b[38;5;241;43m=\u001b[39;49m\u001b[43mmax_circuits\u001b[49m\u001b[43m,\u001b[49m\u001b[43m \u001b[49m\u001b[43mnum_shots\u001b[49m\u001b[38;5;241;43m=\u001b[39;49m\u001b[38;5;241;43m1\u001b[39;49m\u001b[43m,\u001b[49m\n\u001b[1;32m     17\u001b[0m \u001b[43m    \u001b[49m\u001b[43mdegree\u001b[49m\u001b[38;5;241;43m=\u001b[39;49m\u001b[38;5;241;43m3\u001b[39;49m\u001b[43m,\u001b[49m\u001b[43m \u001b[49m\u001b[43msave_res_to_file\u001b[49m\u001b[38;5;241;43m=\u001b[39;49m\u001b[38;5;28;43;01mTrue\u001b[39;49;00m\u001b[43m,\u001b[49m\n\u001b[1;32m     18\u001b[0m \u001b[43m    \u001b[49m\u001b[43mscore_metric\u001b[49m\u001b[38;5;241;43m=\u001b[39;49m\u001b[43mscore_metric\u001b[49m\u001b[43m,\u001b[49m\u001b[43m \u001b[49m\u001b[43mx_metric\u001b[49m\u001b[38;5;241;43m=\u001b[39;49m\u001b[43mx_metric\u001b[49m\u001b[43m,\u001b[49m\u001b[43m \u001b[49m\n\u001b[1;32m     19\u001b[0m \u001b[43m    \u001b[49m\u001b[43mbackend_id\u001b[49m\u001b[38;5;241;43m=\u001b[39;49m\u001b[43mbackend_id\u001b[49m\u001b[43m,\u001b[49m\u001b[43m \u001b[49m\u001b[43mprovider_backend\u001b[49m\u001b[38;5;241;43m=\u001b[39;49m\u001b[43mprovider_backend\u001b[49m\u001b[43m,\u001b[49m\n\u001b[1;32m     20\u001b[0m \u001b[43m    \u001b[49m\u001b[43mexec_options\u001b[49m\u001b[38;5;241;43m=\u001b[39;49m\u001b[43mexec_options\u001b[49m\n\u001b[1;32m     21\u001b[0m \u001b[43m)\u001b[49m\n",
      "File \u001b[0;32m~/Documents/working_copies/QC-App-Oriented-Benchmarks/maxcut/qatalyst/maxcut_benchmark.py:902\u001b[0m, in \u001b[0;36mrun\u001b[0;34m(min_qubits, max_qubits, max_circuits, num_shots, method, degree, alpha, thetas_array, parameterized, do_fidelities, max_iter, min_annealing_time, max_annealing_time, score_metric, x_metric, y_metric, fixed_metrics, num_x_bins, y_size, x_size, objective_func_type, plot_results, save_res_to_file, save_final_counts, detailed_save_names, comfort, backend_id, provider_backend, eta, hub, group, project, exec_options, _instances)\u001b[0m\n\u001b[1;32m    899\u001b[0m metrics\u001b[38;5;241m.\u001b[39mstore_metric(num_qubits, restart_ind, \u001b[38;5;124m'\u001b[39m\u001b[38;5;124mcreate_time\u001b[39m\u001b[38;5;124m'\u001b[39m, time\u001b[38;5;241m.\u001b[39mtime()\u001b[38;5;241m-\u001b[39mts)\n\u001b[1;32m    901\u001b[0m \u001b[38;5;66;03m# submit circuit for execution on target (simulator, cloud simulator, or hardware)\u001b[39;00m\n\u001b[0;32m--> 902\u001b[0m \u001b[43mex\u001b[49m\u001b[38;5;241;43m.\u001b[39;49m\u001b[43msubmit_circuit\u001b[49m\u001b[43m(\u001b[49m\u001b[43mqc\u001b[49m\u001b[43m,\u001b[49m\u001b[43m \u001b[49m\u001b[43mnum_qubits\u001b[49m\u001b[43m,\u001b[49m\u001b[43m \u001b[49m\u001b[43mrestart_ind\u001b[49m\u001b[43m,\u001b[49m\u001b[43m \u001b[49m\u001b[43mparams\u001b[49m\u001b[38;5;241;43m=\u001b[39;49m\u001b[43mparams\u001b[49m\u001b[43m)\u001b[49m                \n\u001b[1;32m    904\u001b[0m \u001b[38;5;66;03m# also store the 'degree' for each execution\u001b[39;00m\n\u001b[1;32m    905\u001b[0m metrics\u001b[38;5;241m.\u001b[39mstore_metric(num_qubits, restart_ind, \u001b[38;5;124m'\u001b[39m\u001b[38;5;124mdegree\u001b[39m\u001b[38;5;124m'\u001b[39m, degree)\n",
      "File \u001b[0;32m~/Documents/working_copies/QC-App-Oriented-Benchmarks/maxcut/qatalyst/../../_common/qatalyst/execute.py:144\u001b[0m, in \u001b[0;36msubmit_circuit\u001b[0;34m(qc, group_id, circuit_id, shots, params)\u001b[0m\n\u001b[1;32m    141\u001b[0m logger\u001b[38;5;241m.\u001b[39minfo(\u001b[38;5;124mf\u001b[39m\u001b[38;5;124m'\u001b[39m\u001b[38;5;124mSubmitting circuit - group=\u001b[39m\u001b[38;5;132;01m{\u001b[39;00mcircuit[\u001b[38;5;124m\"\u001b[39m\u001b[38;5;124mgroup\u001b[39m\u001b[38;5;124m\"\u001b[39m]\u001b[38;5;132;01m}\u001b[39;00m\u001b[38;5;124m id=\u001b[39m\u001b[38;5;132;01m{\u001b[39;00mcircuit[\u001b[38;5;124m\"\u001b[39m\u001b[38;5;124mcircuit\u001b[39m\u001b[38;5;124m\"\u001b[39m]\u001b[38;5;132;01m}\u001b[39;00m\u001b[38;5;124m params=\u001b[39m\u001b[38;5;132;01m{\u001b[39;00m\u001b[38;5;28mstr\u001b[39m(circuit[\u001b[38;5;124m\"\u001b[39m\u001b[38;5;124mparams\u001b[39m\u001b[38;5;124m\"\u001b[39m])\u001b[38;5;132;01m}\u001b[39;00m\u001b[38;5;124m'\u001b[39m)\n\u001b[1;32m    143\u001b[0m \u001b[38;5;28;01mif\u001b[39;00m device_name \u001b[38;5;129;01mis\u001b[39;00m \u001b[38;5;129;01mnot\u001b[39;00m \u001b[38;5;28;01mNone\u001b[39;00m:\n\u001b[0;32m--> 144\u001b[0m     samples \u001b[38;5;241m=\u001b[39m \u001b[43mexecute_circuit\u001b[49m\u001b[43m(\u001b[49m\u001b[43mcircuit\u001b[49m\u001b[43m)\u001b[49m\n\u001b[1;32m    145\u001b[0m \u001b[38;5;28;01melse\u001b[39;00m:\n\u001b[1;32m    146\u001b[0m     \u001b[38;5;28mprint\u001b[39m(\u001b[38;5;124mf\u001b[39m\u001b[38;5;124m\"\u001b[39m\u001b[38;5;124mERROR: No device_name specified, cannot execute program\u001b[39m\u001b[38;5;124m\"\u001b[39m)\n",
      "File \u001b[0;32m~/Documents/working_copies/QC-App-Oriented-Benchmarks/maxcut/qatalyst/../../_common/qatalyst/execute.py:199\u001b[0m, in \u001b[0;36mexecute_circuit\u001b[0;34m(circuit)\u001b[0m\n\u001b[1;32m    194\u001b[0m \u001b[38;5;28mprint\u001b[39m(\u001b[38;5;124m\"\u001b[39m\u001b[38;5;124mBuilding job request\u001b[39m\u001b[38;5;124m\"\u001b[39m, device_name, n_samples)\n\u001b[1;32m    195\u001b[0m job_body \u001b[38;5;241m=\u001b[39m backend\u001b[38;5;241m.\u001b[39mbuild_job_body(hamiltonian_file_id\u001b[38;5;241m=\u001b[39mfile_id,\n\u001b[1;32m    196\u001b[0m                                     job_type\u001b[38;5;241m=\u001b[39m\u001b[38;5;124m\"\u001b[39m\u001b[38;5;124msample-hamiltonian-ising\u001b[39m\u001b[38;5;124m\"\u001b[39m,\n\u001b[1;32m    197\u001b[0m                                     job_params\u001b[38;5;241m=\u001b[39m{\u001b[38;5;124m\"\u001b[39m\u001b[38;5;124mdevice_type\u001b[39m\u001b[38;5;124m\"\u001b[39m: device_name, \n\u001b[1;32m    198\u001b[0m                                                 \u001b[38;5;124m\"\u001b[39m\u001b[38;5;124mnum_samples\u001b[39m\u001b[38;5;124m\"\u001b[39m: n_samples})\n\u001b[0;32m--> 199\u001b[0m job_response \u001b[38;5;241m=\u001b[39m \u001b[43mbackend\u001b[49m\u001b[38;5;241;43m.\u001b[39;49m\u001b[43mprocess_job\u001b[49m\u001b[43m(\u001b[49m\u001b[43mjob_body\u001b[49m\u001b[38;5;241;43m=\u001b[39;49m\u001b[43mjob_body\u001b[49m\u001b[43m,\u001b[49m\u001b[43m \u001b[49m\u001b[43mwait\u001b[49m\u001b[38;5;241;43m=\u001b[39;49m\u001b[38;5;28;43;01mTrue\u001b[39;49;00m\u001b[43m)\u001b[49m\n\u001b[1;32m    200\u001b[0m job_id \u001b[38;5;241m=\u001b[39m job_response[\u001b[38;5;124m\"\u001b[39m\u001b[38;5;124mjob_info\u001b[39m\u001b[38;5;124m\"\u001b[39m][\u001b[38;5;124m\"\u001b[39m\u001b[38;5;124mjob_id\u001b[39m\u001b[38;5;124m\"\u001b[39m]\n\u001b[1;32m    201\u001b[0m job_metrics \u001b[38;5;241m=\u001b[39m backend\u001b[38;5;241m.\u001b[39mget_job_metrics(job_id\u001b[38;5;241m=\u001b[39mjob_id)[\u001b[38;5;124m\"\u001b[39m\u001b[38;5;124mjob_metrics\u001b[39m\u001b[38;5;124m\"\u001b[39m]\n",
      "File \u001b[0;32m~/src/qci/qci-client/qci_client/optimization/client.py:665\u001b[0m, in \u001b[0;36mOptimizationClient.process_job\u001b[0;34m(self, job_body, wait, verbose)\u001b[0m\n\u001b[1;32m    662\u001b[0m         status \u001b[38;5;241m=\u001b[39m latest_status\n\u001b[1;32m    663\u001b[0m         log_to_console(log\u001b[38;5;241m=\u001b[39mstatus\u001b[38;5;241m.\u001b[39mvalue, verbose\u001b[38;5;241m=\u001b[39mverbose)\n\u001b[0;32m--> 665\u001b[0m     \u001b[43mtime\u001b[49m\u001b[38;5;241;43m.\u001b[39;49m\u001b[43msleep\u001b[49m\u001b[43m(\u001b[49m\u001b[43mRESULTS_CHECK_INTERVAL_S\u001b[49m\u001b[43m)\u001b[49m\n\u001b[1;32m    667\u001b[0m dirac_allocation \u001b[38;5;241m=\u001b[39m \u001b[38;5;28mself\u001b[39m\u001b[38;5;241m.\u001b[39mget_allocations()[\u001b[38;5;124m\"\u001b[39m\u001b[38;5;124mallocations\u001b[39m\u001b[38;5;124m\"\u001b[39m][\u001b[38;5;124m\"\u001b[39m\u001b[38;5;124mdirac\u001b[39m\u001b[38;5;124m\"\u001b[39m]\n\u001b[1;32m    668\u001b[0m dirac_allocation_s \u001b[38;5;241m=\u001b[39m dirac_allocation[\u001b[38;5;124m\"\u001b[39m\u001b[38;5;124mseconds\u001b[39m\u001b[38;5;124m\"\u001b[39m]\n",
      "\u001b[0;31mKeyboardInterrupt\u001b[0m: "
     ]
    }
   ],
   "source": [
    "# import sys\n",
    "# sys.path.insert(1, \"maxcut/qiskit\")\n",
    "import maxcut_benchmark\n",
    "\n",
    "# Debug/trace options\n",
    "# import execute\n",
    "# execute.verbose = False\n",
    "# execute.verbose_time = False\n",
    "maxcut_benchmark.verbose = False\n",
    "\n",
    "maxcut_benchmark.run(\n",
    "    min_qubits=min_qubits, max_qubits=max_qubits, max_circuits=max_circuits, num_shots=1,\n",
    "    degree=3, save_res_to_file=True,\n",
    "    score_metric=score_metric, x_metric=x_metric, \n",
    "    backend_id=backend_id, provider_backend=provider_backend,\n",
    "    exec_options=exec_options\n",
    ")"
   ]
  },
  {
   "cell_type": "code",
   "execution_count": null,
   "metadata": {},
   "outputs": [],
   "source": []
  }
 ],
 "metadata": {
  "kernelspec": {
   "display_name": "Python 3",
   "language": "python",
   "name": "python3"
  },
  "language_info": {
   "codemirror_mode": {
    "name": "ipython",
    "version": 3
   },
   "file_extension": ".py",
   "mimetype": "text/x-python",
   "name": "python",
   "nbconvert_exporter": "python",
   "pygments_lexer": "ipython3",
   "version": "3.10.12"
  }
 },
 "nbformat": 4,
 "nbformat_minor": 4
}
